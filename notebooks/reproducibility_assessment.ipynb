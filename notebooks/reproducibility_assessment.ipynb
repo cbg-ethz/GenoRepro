{
 "cells": [
  {
   "cell_type": "markdown",
   "id": "3fed7a52",
   "metadata": {},
   "source": [
    "# Reproducibility assessment of read alignment tools\n",
    "## This is a draft (should be adapted once the naming convention is correct)"
   ]
  },
  {
   "cell_type": "code",
   "execution_count": 72,
   "id": "a76ab876",
   "metadata": {},
   "outputs": [],
   "source": [
    "import pandas as pd\n",
    "import os\n",
    "import glob\n",
    "import seaborn as sns\n",
    "import matplotlib.pyplot as plt\n",
    "from natsort import natsorted, natsort_keygen\n",
    "import re"
   ]
  },
  {
   "cell_type": "code",
   "execution_count": 145,
   "id": "bae7d9da",
   "metadata": {},
   "outputs": [],
   "source": [
    "working_directory=\"/Users/peicer/Desktop/reproducibility/new_csv_results2/\"\n",
    "\n",
    "sample_ids=[\"ERR009308\", \n",
    "            \"ERR009309\", \n",
    "            \"ERR009332\", \n",
    "            \"ERR009345\", \n",
    "            \"ERR013101\"]\n",
    "\n",
    "rep_types=[\"both1\", \"both2\", \"both3\", \"sh1\", \"sh2\", \"sh3\", \"rc\"]"
   ]
  },
  {
   "cell_type": "code",
   "execution_count": 146,
   "id": "9a8b202d",
   "metadata": {},
   "outputs": [
    {
     "name": "stdout",
     "output_type": "stream",
     "text": [
      "['bowtie2', 'bwa2', 'hisat2', 'minimap2', 'ngm', 'smalt', 'snap', 'subread']\n"
     ]
    }
   ],
   "source": [
    "# working_directory should contain a separate folder for each tools\n",
    "tools = sorted([entry.name for entry in os.scandir(working_directory) if entry.is_dir()])\n",
    "\n",
    "print(tools)"
   ]
  },
  {
   "cell_type": "code",
   "execution_count": 147,
   "id": "4cd5513e",
   "metadata": {},
   "outputs": [],
   "source": [
    "csv_files = glob.glob(f'{working_directory}'+\"/*/\"+\"/*.csv\")\n",
    "# csv_files\n"
   ]
  },
  {
   "cell_type": "code",
   "execution_count": 148,
   "id": "c5543450",
   "metadata": {},
   "outputs": [],
   "source": [
    "dataframes = []\n",
    "\n",
    "for file in csv_files:\n",
    "    df = pd.read_csv(file)\n",
    "    filename = os.path.splitext(os.path.basename(file))[0]\n",
    "    tool_name = os.path.basename(os.path.dirname(file))\n",
    "    df['tool'] = tool_name\n",
    "    \n",
    "    for rep_type in rep_types:\n",
    "        if rep_type in filename:\n",
    "            df['replicate'] = rep_type\n",
    "            break\n",
    "    \n",
    "    for sid in sample_ids:\n",
    "        if sid in filename:\n",
    "            df['sampID'] = sid\n",
    "        \n",
    "    dataframes.append(df)\n",
    "    \n",
    "df_combined = pd.concat(dataframes)\n",
    "df_combined = df_combined.sort_values([\"tool\", \"sampID\" ,\"replicate\"], key=natsort_keygen())\n",
    "features = df_combined['FEATURE'].unique()"
   ]
  },
  {
   "cell_type": "code",
   "execution_count": 149,
   "id": "514689e2",
   "metadata": {},
   "outputs": [
    {
     "data": {
      "text/html": [
       "<div>\n",
       "<style scoped>\n",
       "    .dataframe tbody tr th:only-of-type {\n",
       "        vertical-align: middle;\n",
       "    }\n",
       "\n",
       "    .dataframe tbody tr th {\n",
       "        vertical-align: top;\n",
       "    }\n",
       "\n",
       "    .dataframe thead th {\n",
       "        text-align: right;\n",
       "    }\n",
       "</style>\n",
       "<table border=\"1\" class=\"dataframe\">\n",
       "  <thead>\n",
       "    <tr style=\"text-align: right;\">\n",
       "      <th></th>\n",
       "      <th>FEATURE</th>\n",
       "      <th>READS</th>\n",
       "      <th>PERCENTAGE</th>\n",
       "      <th>tool</th>\n",
       "      <th>replicate</th>\n",
       "      <th>sampID</th>\n",
       "    </tr>\n",
       "  </thead>\n",
       "  <tbody>\n",
       "    <tr>\n",
       "      <th>0</th>\n",
       "      <td>Total_reads</td>\n",
       "      <td>14587316</td>\n",
       "      <td>100.0</td>\n",
       "      <td>bowtie2</td>\n",
       "      <td>both1</td>\n",
       "      <td>ERR009308</td>\n",
       "    </tr>\n",
       "    <tr>\n",
       "      <th>1</th>\n",
       "      <td>Mapped_reads</td>\n",
       "      <td>14409166</td>\n",
       "      <td>98.779</td>\n",
       "      <td>bowtie2</td>\n",
       "      <td>both1</td>\n",
       "      <td>ERR009308</td>\n",
       "    </tr>\n",
       "    <tr>\n",
       "      <th>2</th>\n",
       "      <td>Unambigous_type1</td>\n",
       "      <td>11815780</td>\n",
       "      <td>82.002</td>\n",
       "      <td>bowtie2</td>\n",
       "      <td>both1</td>\n",
       "      <td>ERR009308</td>\n",
       "    </tr>\n",
       "    <tr>\n",
       "      <th>3</th>\n",
       "      <td>Unambigous_type2</td>\n",
       "      <td>10063816</td>\n",
       "      <td>69.843</td>\n",
       "      <td>bowtie2</td>\n",
       "      <td>both1</td>\n",
       "      <td>ERR009308</td>\n",
       "    </tr>\n",
       "    <tr>\n",
       "      <th>4</th>\n",
       "      <td>Common_unambiguous</td>\n",
       "      <td>9966062</td>\n",
       "      <td>69.165</td>\n",
       "      <td>bowtie2</td>\n",
       "      <td>both1</td>\n",
       "      <td>ERR009308</td>\n",
       "    </tr>\n",
       "  </tbody>\n",
       "</table>\n",
       "</div>"
      ],
      "text/plain": [
       "              FEATURE     READS PERCENTAGE     tool replicate     sampID\n",
       "0         Total_reads  14587316      100.0  bowtie2     both1  ERR009308\n",
       "1        Mapped_reads  14409166     98.779  bowtie2     both1  ERR009308\n",
       "2    Unambigous_type1  11815780     82.002  bowtie2     both1  ERR009308\n",
       "3    Unambigous_type2  10063816     69.843  bowtie2     both1  ERR009308\n",
       "4  Common_unambiguous   9966062     69.165  bowtie2     both1  ERR009308"
      ]
     },
     "execution_count": 149,
     "metadata": {},
     "output_type": "execute_result"
    }
   ],
   "source": [
    "df_combined.head()\n",
    "# print(avg_df_combined.head())\n",
    "# df_combined[(df_combined['FEATURE'] == 'Identical') & (df_combined['tool'] == 'bwa2')\n",
    "#            & (df_combined['sampID'] == 'ERR009308')]"
   ]
  },
  {
   "cell_type": "code",
   "execution_count": 166,
   "id": "d983abcb",
   "metadata": {},
   "outputs": [
    {
     "data": {
      "text/html": [
       "<div>\n",
       "<style scoped>\n",
       "    .dataframe tbody tr th:only-of-type {\n",
       "        vertical-align: middle;\n",
       "    }\n",
       "\n",
       "    .dataframe tbody tr th {\n",
       "        vertical-align: top;\n",
       "    }\n",
       "\n",
       "    .dataframe thead th {\n",
       "        text-align: right;\n",
       "    }\n",
       "</style>\n",
       "<table border=\"1\" class=\"dataframe\">\n",
       "  <thead>\n",
       "    <tr style=\"text-align: right;\">\n",
       "      <th>FEATURE</th>\n",
       "      <th>repType</th>\n",
       "      <th>sampID</th>\n",
       "      <th>tool</th>\n",
       "      <th>Total_reads</th>\n",
       "      <th>Mapped_reads</th>\n",
       "      <th>Unambigous_type1</th>\n",
       "      <th>Unambigous_type2</th>\n",
       "      <th>Common_unambiguous</th>\n",
       "      <th>Inconsistent_type1</th>\n",
       "      <th>Inconsistent_type2</th>\n",
       "      <th>Identical</th>\n",
       "      <th>Consistent_global_inconsistent_local</th>\n",
       "      <th>Inconsistent_global</th>\n",
       "      <th>Multi_mapped</th>\n",
       "      <th>non-identical</th>\n",
       "    </tr>\n",
       "  </thead>\n",
       "  <tbody>\n",
       "    <tr>\n",
       "      <th>40</th>\n",
       "      <td>rc</td>\n",
       "      <td>ERR009308</td>\n",
       "      <td>bowtie2</td>\n",
       "      <td>100.0</td>\n",
       "      <td>98.779</td>\n",
       "      <td>82.002</td>\n",
       "      <td>69.843</td>\n",
       "      <td>69.165</td>\n",
       "      <td>0.310</td>\n",
       "      <td>0.178</td>\n",
       "      <td>95.527</td>\n",
       "      <td>0.536</td>\n",
       "      <td>3.110</td>\n",
       "      <td>0.340</td>\n",
       "      <td>4.473</td>\n",
       "    </tr>\n",
       "    <tr>\n",
       "      <th>48</th>\n",
       "      <td>rc</td>\n",
       "      <td>ERR009309</td>\n",
       "      <td>bowtie2</td>\n",
       "      <td>100.0</td>\n",
       "      <td>98.776</td>\n",
       "      <td>80.544</td>\n",
       "      <td>67.827</td>\n",
       "      <td>67.105</td>\n",
       "      <td>0.266</td>\n",
       "      <td>0.149</td>\n",
       "      <td>95.631</td>\n",
       "      <td>0.411</td>\n",
       "      <td>3.181</td>\n",
       "      <td>0.361</td>\n",
       "      <td>4.369</td>\n",
       "    </tr>\n",
       "    <tr>\n",
       "      <th>56</th>\n",
       "      <td>rc</td>\n",
       "      <td>ERR009332</td>\n",
       "      <td>bowtie2</td>\n",
       "      <td>100.0</td>\n",
       "      <td>99.071</td>\n",
       "      <td>80.792</td>\n",
       "      <td>67.808</td>\n",
       "      <td>67.109</td>\n",
       "      <td>0.203</td>\n",
       "      <td>0.129</td>\n",
       "      <td>95.724</td>\n",
       "      <td>0.408</td>\n",
       "      <td>3.167</td>\n",
       "      <td>0.370</td>\n",
       "      <td>4.276</td>\n",
       "    </tr>\n",
       "    <tr>\n",
       "      <th>64</th>\n",
       "      <td>rc</td>\n",
       "      <td>ERR009345</td>\n",
       "      <td>bowtie2</td>\n",
       "      <td>100.0</td>\n",
       "      <td>98.840</td>\n",
       "      <td>81.838</td>\n",
       "      <td>69.126</td>\n",
       "      <td>68.491</td>\n",
       "      <td>0.130</td>\n",
       "      <td>0.114</td>\n",
       "      <td>97.768</td>\n",
       "      <td>0.596</td>\n",
       "      <td>1.168</td>\n",
       "      <td>0.223</td>\n",
       "      <td>2.232</td>\n",
       "    </tr>\n",
       "    <tr>\n",
       "      <th>72</th>\n",
       "      <td>rc</td>\n",
       "      <td>ERR013101</td>\n",
       "      <td>bowtie2</td>\n",
       "      <td>100.0</td>\n",
       "      <td>98.273</td>\n",
       "      <td>80.755</td>\n",
       "      <td>72.952</td>\n",
       "      <td>72.116</td>\n",
       "      <td>0.121</td>\n",
       "      <td>0.101</td>\n",
       "      <td>95.046</td>\n",
       "      <td>3.339</td>\n",
       "      <td>1.253</td>\n",
       "      <td>0.140</td>\n",
       "      <td>4.954</td>\n",
       "    </tr>\n",
       "  </tbody>\n",
       "</table>\n",
       "</div>"
      ],
      "text/plain": [
       "FEATURE repType     sampID     tool  Total_reads  Mapped_reads  \\\n",
       "40           rc  ERR009308  bowtie2        100.0        98.779   \n",
       "48           rc  ERR009309  bowtie2        100.0        98.776   \n",
       "56           rc  ERR009332  bowtie2        100.0        99.071   \n",
       "64           rc  ERR009345  bowtie2        100.0        98.840   \n",
       "72           rc  ERR013101  bowtie2        100.0        98.273   \n",
       "\n",
       "FEATURE  Unambigous_type1  Unambigous_type2  Common_unambiguous  \\\n",
       "40                 82.002            69.843              69.165   \n",
       "48                 80.544            67.827              67.105   \n",
       "56                 80.792            67.808              67.109   \n",
       "64                 81.838            69.126              68.491   \n",
       "72                 80.755            72.952              72.116   \n",
       "\n",
       "FEATURE  Inconsistent_type1  Inconsistent_type2  Identical  \\\n",
       "40                    0.310               0.178     95.527   \n",
       "48                    0.266               0.149     95.631   \n",
       "56                    0.203               0.129     95.724   \n",
       "64                    0.130               0.114     97.768   \n",
       "72                    0.121               0.101     95.046   \n",
       "\n",
       "FEATURE  Consistent_global_inconsistent_local  Inconsistent_global  \\\n",
       "40                                      0.536                3.110   \n",
       "48                                      0.411                3.181   \n",
       "56                                      0.408                3.167   \n",
       "64                                      0.596                1.168   \n",
       "72                                      3.339                1.253   \n",
       "\n",
       "FEATURE  Multi_mapped  non-identical  \n",
       "40              0.340          4.473  \n",
       "48              0.361          4.369  \n",
       "56              0.370          4.276  \n",
       "64              0.223          2.232  \n",
       "72              0.140          4.954  "
      ]
     },
     "execution_count": 166,
     "metadata": {},
     "output_type": "execute_result"
    }
   ],
   "source": [
    "df_pivot = df_combined.pivot(index=['tool', 'replicate', 'sampID'], values='PERCENTAGE', columns='FEATURE')\n",
    "df = df_pivot.reset_index()\n",
    "df['repType'] = df['replicate'].apply(lambda x: re.sub(r'\\d+', '', x))\n",
    "avg_df = df.groupby(['repType', 'sampID', 'tool'])[features].mean().reset_index()\n",
    "avg_df['non-identical'] = 100-avg_df['Identical']\n",
    "\n",
    "\n",
    "avg_df.head()\n",
    "avg_df[(avg_df['repType'] == 'rc') & (avg_df['tool'] == 'bowtie2')]\n"
   ]
  },
  {
   "cell_type": "code",
   "execution_count": 186,
   "id": "e677e34a",
   "metadata": {},
   "outputs": [],
   "source": [
    "# bar plot with distribution bar\n",
    "def plot_bar_err(data_df, info, category, label, line, val):\n",
    "#     plt.figure()\n",
    "    plt.figure(figsize=(10, 6))\n",
    "\n",
    "    ax=sns.barplot(x = \"tool\", y = info, hue = category, data = data_df,\n",
    "                palette = 'Set1',\n",
    "                order = tools, \n",
    "                capsize=0.05,  errwidth=2, ci='sd')\n",
    "    if line:\n",
    "        ax.axhline(val, color='black', linestyle='--')\n",
    "    ax.set(xlabel='tools', ylabel=label)\n",
    "    ax.set_xticklabels(ax.get_xticklabels(), rotation=30)\n",
    "    ax.legend(bbox_to_anchor=(1, 1))"
   ]
  },
  {
   "cell_type": "code",
   "execution_count": 260,
   "id": "33ca7624",
   "metadata": {},
   "outputs": [],
   "source": [
    "def plot_bar_err2(data_df, category, xval, label):\n",
    "    \n",
    "    \n",
    "    df_melted = data_df.melt(category, var_name='values')\n",
    "    print(df_melted[df_melted['tool'] == 'bowtie2'])\n",
    "    \n",
    "    sns.set(style='whitegrid')\n",
    "    plt.figure(figsize=(8,6))\n",
    "    ax=sns.catplot(x=xval, y='value', hue='values', col='repType', data=df_melted,\n",
    "                  palette='Set1',\n",
    "                  order=tools, \n",
    "                  capsize=0.05, errwidth=2, ci='sd', kind='bar')\n",
    "    \n",
    "    ax.set(xlabel='tools', ylabel=label)\n",
    "#     ax.set_xticklabels(ax.get_xticklabels(), rotation=30)\n",
    "#     ax.legend(bbox_to_anchor=(1, 1))"
   ]
  },
  {
   "cell_type": "code",
   "execution_count": 261,
   "id": "eca00d91",
   "metadata": {},
   "outputs": [
    {
     "data": {
      "text/plain": [
       "<Figure size 576x432 with 0 Axes>"
      ]
     },
     "metadata": {},
     "output_type": "display_data"
    },
    {
     "data": {
      "image/png": "[encoded data removed]",
      "text/plain": [
       "<Figure size 1214.6x360 with 3 Axes>"
      ]
     },
     "metadata": {},
     "output_type": "display_data"
    }
   ],
   "source": [
    "plot_bar_err2(avg_df[['repType', 'sampID', 'tool', 'Unambigous_type1', 'Unambigous_type2']], \n",
    "              ['tool', 'repType', 'sampID'], 'tool', '% ')\n"
   ]
  },
  {
   "cell_type": "code",
   "execution_count": 182,
   "id": "c32dd371",
   "metadata": {},
   "outputs": [
    {
     "data": {
      "image/png": "[encoded data removed]",
      "text/plain": [
       "<Figure size 720x432 with 1 Axes>"
      ]
     },
     "metadata": {
      "needs_background": "light"
     },
     "output_type": "display_data"
    }
   ],
   "source": [
    "plot_bar_err(avg_df, 'non-identical', '% of non-identical reads', True, 5)\n"
   ]
  },
  {
   "cell_type": "code",
   "execution_count": null,
   "id": "5f44c029",
   "metadata": {},
   "outputs": [],
   "source": []
  },
  {
   "cell_type": "code",
   "execution_count": null,
   "id": "6e1df97e",
   "metadata": {},
   "outputs": [],
   "source": []
  },
  {
   "cell_type": "code",
   "execution_count": 207,
   "id": "fa848dbf",
   "metadata": {},
   "outputs": [
    {
     "data": {
      "image/png": "[encoded data removed]",
      "text/plain": [
       "<Figure size 576x432 with 1 Axes>"
      ]
     },
     "metadata": {},
     "output_type": "display_data"
    }
   ],
   "source": [
    "import seaborn as sns\n",
    "import pandas as pd\n",
    "import matplotlib.pyplot as plt\n",
    "\n",
    "# Sample DataFrame\n",
    "data = {\n",
    "    'Category': ['A', 'B', 'C', 'D'],\n",
    "    'Type': ['rc', 'sh', 'rc', 'sh'],\n",
    "    'Value1': [10, 15, 7, 12],\n",
    "    'Value2': [8, 6, 9, 11]\n",
    "}\n",
    "df = pd.DataFrame(data)\n",
    "\n",
    "# Reshaping the DataFrame for plotting\n",
    "df_melted = df.melt(['Category', 'Type'], var_name='Values')\n",
    "\n",
    "# Creating the bar plot using Seaborn\n",
    "sns.set(style='whitegrid')\n",
    "plt.figure(figsize=(8, 6))\n",
    "sns.barplot(x='Category', y='value', hue='Values', data=df_melted, ci=None)\n",
    "\n",
    "# Adding labels and title\n",
    "plt.xlabel('Category')\n",
    "plt.ylabel('Values')\n",
    "plt.title('Values for Each Category and Type')\n",
    "\n",
    "# Displaying the plot\n",
    "plt.show()\n"
   ]
  }
 ],
 "metadata": {
  "kernelspec": {
   "display_name": "reproducibility_alignment",
   "language": "python",
   "name": "reproducibility_alignment"
  },
  "language_info": {
   "codemirror_mode": {
    "name": "ipython",
    "version": 3
   },
   "file_extension": ".py",
   "mimetype": "text/x-python",
   "name": "python",
   "nbconvert_exporter": "python",
   "pygments_lexer": "ipython3",
   "version": "3.10.4"
  }
 },
 "nbformat": 4,
 "nbformat_minor": 5
}
